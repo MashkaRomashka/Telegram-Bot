{
  "cells": [
    {
      "cell_type": "code",
      "execution_count": null,
      "metadata": {
        "colab": {
          "base_uri": "https://localhost:8080/"
        },
        "id": "NjMSUwmD71RW",
        "outputId": "ac7f12d1-fb3a-4eb6-d540-e1ec7f2c20b2"
      },
      "outputs": [
        {
          "name": "stdout",
          "output_type": "stream",
          "text": [
            "Python 3.10.12\n"
          ]
        }
      ],
      "source": [
        "!python3 --version"
      ]
    },
    {
      "cell_type": "code",
      "execution_count": null,
      "metadata": {
        "colab": {
          "base_uri": "https://localhost:8080/"
        },
        "id": "ZDMPbGrW4N6N",
        "outputId": "0516f31c-d7a8-408f-b3bf-91ef63e1b2d7"
      },
      "outputs": [
        {
          "name": "stdout",
          "output_type": "stream",
          "text": [
            "Requirement already satisfied: pytelegrambotapi in /usr/local/lib/python3.10/dist-packages (4.18.1)\n",
            "Requirement already satisfied: requests in /usr/local/lib/python3.10/dist-packages (from pytelegrambotapi) (2.31.0)\n",
            "Requirement already satisfied: charset-normalizer<4,>=2 in /usr/local/lib/python3.10/dist-packages (from requests->pytelegrambotapi) (3.3.2)\n",
            "Requirement already satisfied: idna<4,>=2.5 in /usr/local/lib/python3.10/dist-packages (from requests->pytelegrambotapi) (3.7)\n",
            "Requirement already satisfied: urllib3<3,>=1.21.1 in /usr/local/lib/python3.10/dist-packages (from requests->pytelegrambotapi) (2.0.7)\n",
            "Requirement already satisfied: certifi>=2017.4.17 in /usr/local/lib/python3.10/dist-packages (from requests->pytelegrambotapi) (2024.2.2)\n"
          ]
        }
      ],
      "source": [
        "!pip3 install pytelegrambotapi"
      ]
    },
    {
      "cell_type": "code",
      "execution_count": null,
      "metadata": {
        "id": "iOykakQZ4dcK"
      },
      "outputs": [],
      "source": [
        "import asyncio\n",
        "import time"
      ]
    },
    {
      "cell_type": "code",
      "execution_count": null,
      "metadata": {
        "id": "SFmD5XpGIrLM"
      },
      "outputs": [],
      "source": [
        "# import virtualenv\n",
        "import telebot\n",
        "from telebot import types\n",
        "# import config\n",
        "import json\n",
        "import pandas as pd\n",
        "from IPython.display import display, HTML"
      ]
    },
    {
      "cell_type": "code",
      "execution_count": null,
      "metadata": {
        "id": "sQ2lHcpZ9hUt"
      },
      "outputs": [],
      "source": [
        "bot = telebot.TeleBot('6993763153:AAHifGaycdTfp1z1QC_t4DckLXfV6KVErOQ')"
      ]
    },
    {
      "cell_type": "code",
      "execution_count": null,
      "metadata": {
        "id": "sG5FvVpC7p9r"
      },
      "outputs": [],
      "source": [
        "import sqlite3"
      ]
    },
    {
      "cell_type": "code",
      "execution_count": null,
      "metadata": {
        "id": "k0e4UsI5fv5e"
      },
      "outputs": [],
      "source": [
        "from google.colab import files"
      ]
    },
    {
      "cell_type": "code",
      "execution_count": null,
      "metadata": {
        "id": "OUs_KB0Vfoqb"
      },
      "outputs": [],
      "source": [
        "from telebot.types import ReplyKeyboardRemove"
      ]
    },
    {
      "cell_type": "code",
      "execution_count": null,
      "metadata": {
        "id": "ftLbOML9lS1O"
      },
      "outputs": [],
      "source": [
        "def run_once(f):\n",
        "    def wrapper(*args, **kwargs):\n",
        "        if not wrapper.has_run:\n",
        "            wrapper.has_run = True\n",
        "            return f(*args, **kwargs)\n",
        "    wrapper.has_run = False\n",
        "    return wrapper"
      ]
    },
    {
      "cell_type": "code",
      "execution_count": null,
      "metadata": {
        "id": "ODA8uRguqb9G"
      },
      "outputs": [],
      "source": [
        "global DATA_BASE\n",
        "DATA_BASE = {}"
      ]
    },
    {
      "cell_type": "code",
      "execution_count": null,
      "metadata": {
        "id": "0LnzGzE2eS8R"
      },
      "outputs": [],
      "source": [
        "teams = []\n",
        "count = 0\n",
        "task_one = []\n",
        "photo_atrium = []\n",
        "photo_dur = []\n",
        "faculty = []\n",
        "task_dreams = []\n",
        "ab = []\n",
        "bear = []"
      ]
    },
    {
      "cell_type": "code",
      "execution_count": null,
      "metadata": {
        "id": "gD46SqIz-Ow9"
      },
      "outputs": [],
      "source": [
        "@bot.message_handler(commands=[\"start\"])\n",
        "def start(m = \"/start\"):\n",
        "    msg_info = bot.send_message(m.chat.id, 'Привет! Мы поздравляем тебя с началом прохождения нашего квеста! Уверены, ты узнаешь много нового о Вышке и о том, чем же занимаются экономисты! \\n 1. Название вашей команды! \\n 2. ФИО участников \\nВсё нужно прислать одним сообщением!')\n",
        "    bot.register_next_step_handler(msg_info, instruction)\n"
      ]
    },
    {
      "cell_type": "code",
      "execution_count": null,
      "metadata": {
        "id": "MRnB253sVcTV"
      },
      "outputs": [],
      "source": [
        "@bot.message_handler(content_types = ['text'])\n",
        "def instruction(msg_info):\n",
        "  if msg_info.text:\n",
        "    name = msg_info.text.strip()\n",
        "    DATA_BASE[msg_info.from_user.id] = []\n",
        "    DATA_BASE[msg_info.from_user.id].append(name)\n",
        "    bot.send_message(1739814261, \"\\n\".join(DATA_BASE[msg_info.from_user.id]))\n",
        "    bot.send_message(msg_info.chat.id, \"Перед началом небольшая интсрукция: \\nЕсли бот попросит тебя нажать на кнопку, но самой кнопки не будет видно, то нужно будет нажать на вот этот значок:\")\n",
        "    photo = open('Значок.jpg', 'rb')\n",
        "    bot.send_photo(msg_info.chat.id, photo)\n",
        "    markup = types.ReplyKeyboardMarkup(resize_keyboard = True)\n",
        "    emoji_start = types.KeyboardButton(\"▶️\")\n",
        "    markup.add(emoji_start)\n",
        "    msg_from_instruction = bot.send_message(msg_info.chat.id, \"Нажми на кнопку, чтобы начать!\", reply_markup=markup)\n",
        "    bot.register_next_step_handler(msg_from_instruction, task_1)\n",
        "  else:\n",
        "    msg_info = bot.send_message(msg_info.chat.id, \"Попробуй ещё раз!\")\n",
        "    bot.register_next_step_handler(msg_info, instruction)\n"
      ]
    },
    {
      "cell_type": "code",
      "execution_count": null,
      "metadata": {
        "id": "25NB7GkIeG43"
      },
      "outputs": [],
      "source": [
        "@bot.message_handler(content_types=['text'])\n",
        "def task_1(msg_from_instruction):\n",
        "  if msg_from_instruction.text:\n",
        "    if msg_from_instruction.text.strip() != \"▶️\":\n",
        "        msg_info_from_instruction = bot.send_message(msg_from_instruction.chat.id, \"Нажми, пожалуйста, на кнопочку!\")\n",
        "        bot.register_next_step_handler(msg_from_instruction, task_1)\n",
        "    else:\n",
        "        msgfisrt = bot.send_message(msg_from_instruction.chat.id, 'Отлично! Квест начался! \\nК 13:30 вам необходимо прийти на Мясницкую 11 в аудиторию 330, там вас будет ждать лекция ФЭН. \\n Также если вы закончите квест раньше, можно перекусить в столовой на Мясницкой 11!')\n",
        "        markup = types.ReplyKeyboardMarkup(resize_keyboard = True)\n",
        "        item2 = types.KeyboardButton(\"Атриум\")\n",
        "        item3 = types.KeyboardButton(\"Сцена\")\n",
        "        item4 = types.KeyboardButton(\"Потоковая аудитория\")\n",
        "        item5 = types.KeyboardButton(\"Амфитеатр\")\n",
        "        markup.add(item2)\n",
        "        markup.add(item3)\n",
        "        markup.add(item4)\n",
        "        markup.add(item5)\n",
        "        msg_from_task_1 = bot.send_message(msg_from_instruction.chat.id, 'Задание 1 \\n \\nКак называется место в кампусе на Покровке, где проводятся самые крупные мероприятия для абитуриентов, студентов и выпускников? В том числе большой день открытых дверей НИУ ВШЭ и Ночь студента Вышки!',  reply_markup=markup)\n",
        "        bot.register_next_step_handler(msg_from_task_1, answer_1)\n",
        "  else:\n",
        "    msg_from_instruction = bot.send_message(msg_from_instruction.chat.id, \"Попробуй ещё раз!\")\n",
        "    bot.register_next_step_handler(msg_from_instruction, instruction)\n"
      ]
    },
    {
      "cell_type": "code",
      "execution_count": null,
      "metadata": {
        "id": "gVtOXVIqp96S"
      },
      "outputs": [],
      "source": [
        "@bot.message_handler(content_types=['text'])\n",
        "def answer_1(msg_from_task_1):\n",
        "  if msg_from_task_1.text == \"Атриум\" or msg_from_task_1.text == \"Сцена\" or msg_from_task_1.text == \"Потоковая аудитория\" or msg_from_task_1.text == \"Амфитеатр\":\n",
        "    if msg_from_task_1.text.strip() == \"Атриум\":\n",
        "      atrium = \"Атриум\"\n",
        "      task_one.append(atrium)\n",
        "      answer = \"Верно! \\nНаправляйтесь в Атриум и сделайте там общее фото вашей команды! \\nДля прохода в Атриум надо спуститься на 1 этаж, пройти до Столовой и повернуть налево! \\nЕсли что тебе помогут указатели на стенах здания! \\nПришлите фото боту.\"\n",
        "      msg_from_answer_1 = bot.send_message(msg_from_task_1.chat.id, answer, reply_markup=ReplyKeyboardRemove())\n",
        "    else:\n",
        "      atrium = \"Не атриум\"\n",
        "      task_one.append(atrium)\n",
        "      answer = \"Неверно! Правильный ответ - Атриум! \\nНаправляйтесь в Атриум и сделайте там общее фото вашей команды! \\nДля прохода в Атриум надо спуститься на 1 этаж, пройти до Столовой и повернуть налево! \\nЕсли что тебе помогут указатели на стенах здания! \\nПришлите фото боту.\"\n",
        "      msg_from_answer_1 = bot.send_message(msg_from_task_1.chat.id, answer, reply_markup=ReplyKeyboardRemove())\n",
        "    DATA_BASE[msg_from_task_1.from_user.id].append(atrium)\n",
        "    bot.send_message(1739814261, \"\\n\".join(DATA_BASE[msg_from_task_1.from_user.id]))\n",
        "    bot.register_next_step_handler(msg_from_answer_1, task_2)\n",
        "  else:\n",
        "    msg_from_answer_1 = bot.send_message(msg_from_task_1.chat.id, \"Выберите из предложенных вариантов!\")\n",
        "    bot.register_next_step_handler(msg_from_answer_1, answer_1)"
      ]
    },
    {
      "cell_type": "code",
      "execution_count": null,
      "metadata": {
        "id": "mwu8q5gD-ZpU"
      },
      "outputs": [],
      "source": [
        "@bot.message_handler(content_types=['photo'])\n",
        "def task_2(msg_from_answer_1):\n",
        "  if msg_from_answer_1.photo:\n",
        "    photo_in_the_atrium = bot.get_file(msg_from_answer_1.photo[-1].file_id)\n",
        "    photo_in_the_atrium_download = bot.download_file(photo_in_the_atrium.file_path)\n",
        "    bot.send_photo(1739814261, photo_in_the_atrium_download, caption = DATA_BASE[msg_from_answer_1.from_user.id][0] + \"\\nФото из Атриума\")\n",
        "    bot.send_message(msg_from_answer_1.chat.id, 'Ура, вы нашли Атриум! \\nЕсли вы стоите спиной к высоким колоннам, напротив вас как раз будет Дом Дурасовых. Сегодня там располагается зал Ученого Совета Вышки. На таких заседаниях принимается план развития университета!')\n",
        "    photo = open('Дом Дурасовых.png', 'rb')\n",
        "    bot.send_photo(msg_from_answer_1.chat.id, photo)\n",
        "    msg_from_task_2 = bot.send_message(msg_from_answer_1.chat.id, \"Вам надо найти выход 1 (в этом вам помогут указатели) и выйти из здания через него на Покровский бульвар, для этого перейдите дорогу. \\nВы увидите Дом Дурасовых с обратной стороны. \\nСейчас здание выглядит очень современно, но совсем недавно все было по - другому.\")\n",
        "    markup = types.InlineKeyboardMarkup()\n",
        "    learn = types.InlineKeyboardButton(\"Узнать как\", url='https://durasov.hse.ru/#header-end')\n",
        "    markup.add(learn)\n",
        "    bot.send_message(msg_from_answer_1.chat.id, \"Узнать как\".format(msg_from_answer_1.from_user), reply_markup=markup)\n",
        "    msg_from_get_inf = bot.send_message(msg_from_answer_1.chat.id, 'Задание 2. \\n \\nСделайте фото группы на память на фоне Дома Дурасовых с бульвара. Пришлите фото боту.')\n",
        "    bot.register_next_step_handler(msg_from_get_inf, answer_3)\n",
        "    # bot.register_next_step_handler(msg_from_task_2, get_inf)\n",
        "  else:\n",
        "    msg_from_answer_1 = bot.send_message(msg_from_answer_1.chat.id, \"Пришлите, пожалуйста, фото!\")\n",
        "    bot.register_next_step_handler(msg_from_answer_1, task_2)\n",
        "\n"
      ]
    },
    {
      "cell_type": "code",
      "execution_count": null,
      "metadata": {
        "id": "uUutzZzlwBl_"
      },
      "outputs": [],
      "source": [
        "@bot.message_handler(content_types=['photo'])\n",
        "def answer_3(msg_from_get_inf):\n",
        "  if msg_from_get_inf.photo:\n",
        "    photo = bot.get_file(msg_from_get_inf.photo[-1].file_id)\n",
        "    photo_download = bot.download_file(photo.file_path)\n",
        "    bot.send_photo(1739814261, photo_download, caption = DATA_BASE[msg_from_get_inf.from_user.id][0] + \"\\nФото у Дома Дурасовых\")\n",
        "    bot.send_message(msg_from_get_inf.chat.id, \"С вами будет гулять символ Вышки - ворона в виде стикерпака. В конце прогулки у вас соберется полный стикерпак, который вы сможете использовать в переписках! Ловите первую ворону\")\n",
        "    bot.send_sticker(msg_from_get_inf.chat.id, \"CAACAgIAAxkBAAEMKXtmTS3R2GryAmpR4NPidF8o5_8VlQACwkMAAiWGaEqWb4N4JioMUjUE\")\n",
        "    msg_from_answer_3 = bot.send_message(msg_from_get_inf.chat.id, \"Продолжаем! \\nЗадание 3. \\n \\nЗдания НИУ ВШЭ разбросаны по всему центру Москвы. Например, напротив Главного кампуса расположились факультеты - Факультет коммуникаций, медиа и дизайна и Факультет права. Давай проверим насколько хорошо ты знаешь - какие факультеты расположены в главном кампусе НИУ ВШЭ: \\n1. Факультет экономических наук \\n2. Факультет географии \\n3. Факультет компьютерных наук \\n4. Международный институт экономики и финансов \\nВведите цифры, под котрыми указаны правильные ответы слитно в порядке возрастания.\")\n",
        "    bot.register_next_step_handler(msg_from_answer_3, answer_4)\n",
        "  else:\n",
        "    msg_get_inf = bot.send_message(msg_from_get_inf.chat.id, \"Пришлите, пожалуйста, фото!\")\n",
        "    bot.register_next_step_handler(msg_from_get_inf, answer_3)"
      ]
    },
    {
      "cell_type": "code",
      "execution_count": null,
      "metadata": {
        "id": "gpxIH5xBp4Cz"
      },
      "outputs": [],
      "source": [
        "@bot.message_handler(content_types=['text'])\n",
        "def answer_4(msg_from_answer_3):\n",
        "  if msg_from_answer_3.text:\n",
        "    if msg_from_answer_3.text == \"1234\":\n",
        "      bot.send_message(msg_from_answer_3.chat.id, \"Верно!\")\n",
        "    else:\n",
        "      bot.send_message(msg_from_answer_3.chat.id, \"Неверно! Правильный ответ - 1234\")\n",
        "    fuck = msg_from_answer_3.text\n",
        "    DATA_BASE[msg_from_answer_3.from_user.id].append(fuck)\n",
        "    bot.send_message(1739814261, \"\\n\".join(DATA_BASE[msg_from_answer_3.from_user.id]))\n",
        "    bot.send_message(msg_from_answer_3.chat.id, \"Задание 4. Направляйтесь вдоль Покровского бульвара и следующая остановка - здание Лукойла.\")\n",
        "    photo = open('Карта (1).png', 'rb')\n",
        "    markup = types.InlineKeyboardMarkup()\n",
        "    bot.send_photo(msg_from_answer_3.chat.id, photo)\n",
        "    map =  types.InlineKeyboardButton(\"Карта\", url='https://yandex.ru/maps/org/lukoyl_inzhiniring/1683145648/?ll=37.648528%2C55.756796&utm_source=share&z=16')\n",
        "    markup.add(map)\n",
        "    bot.send_message(msg_from_answer_3.chat.id, \"Ссылка на карту\".format(msg_from_answer_3.from_user), reply_markup=markup)\n",
        "    markup = types.ReplyKeyboardMarkup(resize_keyboard = True)\n",
        "    smile = types.KeyboardButton(\"👍\")\n",
        "    markup.add(smile)\n",
        "    msg_from_answer_4 = bot.send_message(msg_from_answer_3.chat.id, \"Выпускники факультета экономических наук работают во многих крупных российских и зарубежных компаниях. Когда вы будете на месте, нажмите на 👍\", reply_markup=markup)\n",
        "    bot.register_next_step_handler(msg_from_answer_4, answer_5)\n",
        "  else:\n",
        "    msg_from_answer_3 = bot.send_message(msg_from_answer_3.chat.id, \"Попробуй ещё раз!\")\n",
        "    bot.register_next_step_handler(msg_from_answer_3, answer_4)\n",
        "\n"
      ]
    },
    {
      "cell_type": "code",
      "execution_count": null,
      "metadata": {
        "id": "9MDr52wW9jc9"
      },
      "outputs": [],
      "source": [
        "@bot.message_handler(content_types=['text'])\n",
        "def answer_5(msg_from_answer_4):\n",
        "  if msg_from_answer_4.text:\n",
        "    if msg_from_answer_4.text != \"👍\":\n",
        "      msg_from_answer_4 = bot.send_message(msg_from_answer_4.chat.id, \"Тыкни на кнопочку!\")\n",
        "      bot.register_next_step_handler(msg_from_answer_4, answer_5)\n",
        "    else:\n",
        "      markup = types.ReplyKeyboardMarkup(resize_keyboard = True)\n",
        "      item7 = types.KeyboardButton(\"Посмотреть обращение\")\n",
        "      markup.add(item7)\n",
        "      msg_from_answer_5 = bot.send_message(msg_from_answer_4.chat.id, \"Супер! \\nЗадание 5. Посмотрите обращение нашей выпускницы к Абитуриентам факультета.\", reply_markup=markup)\n",
        "      bot.register_next_step_handler(msg_from_answer_5, appeal)\n",
        "  else:\n",
        "    msg_from_answer_4 = bot.send_message(msg_from_answer_4.chat.id, \"Попробуй ещё раз!\")\n",
        "    bot.register_next_step_handler(msg_from_answer_4, answer_5)"
      ]
    },
    {
      "cell_type": "code",
      "execution_count": null,
      "metadata": {
        "colab": {
          "base_uri": "https://localhost:8080/"
        },
        "id": "_2FqJQ82JtB0",
        "outputId": "f1ad81fc-6e73-45cb-af2c-0299f93a8455"
      },
      "outputs": [
        {
          "name": "stdout",
          "output_type": "stream",
          "text": [
            "Requirement already satisfied: emoji in /usr/local/lib/python3.10/dist-packages (2.12.1)\n",
            "Requirement already satisfied: typing-extensions>=4.7.0 in /usr/local/lib/python3.10/dist-packages (from emoji) (4.11.0)\n"
          ]
        }
      ],
      "source": [
        "!pip install emoji\n",
        "import emoji"
      ]
    },
    {
      "cell_type": "code",
      "execution_count": null,
      "metadata": {
        "id": "Kw--D7iRAlGw"
      },
      "outputs": [],
      "source": [
        "@bot.message_handler(content_types=['text'])\n",
        "def appeal(msg_from_answer_5):\n",
        "  if msg_from_answer_5.text:\n",
        "    if msg_from_answer_5.text.strip() != \"Посмотреть обращение\":\n",
        "      msg_from_answer_5 = bot.send_message(msg_from_answer_5.chat.id, \"Тыкни на кнопочку, пожалуйста\")\n",
        "      bot.register_next_step_handler(msg_from_answer_5, appeal)\n",
        "    else:\n",
        "      video = open('Кружочек (1).mp4', 'rb')\n",
        "      video_next = open('Кружочек (2).mp4', 'rb')\n",
        "      bot.send_video_note(msg_from_answer_5.chat.id, video)\n",
        "      bot.send_video_note(msg_from_answer_5.chat.id, video_next)\n",
        "      msg_from_appeal = bot.send_message(msg_from_answer_5.chat.id, \"Пришлите ответы одним сообщением\", reply_markup=ReplyKeyboardRemove())\n",
        "      bot.register_next_step_handler(msg_from_appeal, task_from_graduated)\n",
        "  else:\n",
        "    msg_from_answer_5 = bot.send_message(msg_from_answer_5.chat.id, \"Попробуй ещё раз!\")\n",
        "    bot.register_next_step_handler(msg_from_answer_5, appeal)"
      ]
    },
    {
      "cell_type": "code",
      "execution_count": null,
      "metadata": {
        "id": "J7nyDcn1aW32"
      },
      "outputs": [],
      "source": [
        "@bot.message_handler(content_types = ['text'])\n",
        "def task_from_graduated(msg_from_appeal):\n",
        "  if msg_from_appeal.text:\n",
        "    grad = msg_from_appeal.text\n",
        "    DATA_BASE[msg_from_appeal.from_user.id].append(grad)\n",
        "    markup = types.ReplyKeyboardMarkup(resize_keyboard = True)\n",
        "    white = types.KeyboardButton(\"🤍\")\n",
        "    markup.add(white)\n",
        "    bot.send_message(msg_from_appeal.chat.id, \"Правильные ответы: \\n1) 1991 \\n2) 8 стран \\n3) Лангепас, Урай, Когалым\")\n",
        "    white_house = bot.send_message(msg_from_appeal.chat.id, \"\\nЗадание 6. \\nДвигайтесь вперед до Амфитеатра, Открытого фрагмента стены Белого города. Когда дойдете до места пришлите смайлик 🤍\", reply_markup=markup)\n",
        "    photo = open('Карта (2).png', 'rb')\n",
        "    markup = types.InlineKeyboardMarkup()\n",
        "    bot.send_photo(msg_from_appeal.chat.id, photo)\n",
        "    map =  types.InlineKeyboardButton(\"Карта\", url='https://yandex.ru/maps/org/amfiteatr/12421557776/?ll=37.646471%2C55.758240&utm_source=share&z=17')\n",
        "    markup.add(map)\n",
        "    bot.send_message(msg_from_appeal.chat.id, \"Ссылка на карту\".format(msg_from_appeal.from_user), reply_markup=markup)\n",
        "    bot.register_next_step_handler(white_house, func_white_heart)\n",
        "  else:\n",
        "    msg_from_appeal = bot.send_message(msg_from_appeal.chat.id, \"Попробуй ещё раз!\")\n",
        "    bot.register_next_step_handler(msg_from_appeal, task_from_graduated)"
      ]
    },
    {
      "cell_type": "code",
      "execution_count": null,
      "metadata": {
        "id": "R0pjCv_ZUVlh"
      },
      "outputs": [],
      "source": [
        "@bot.message_handler(content_types = ['text'])\n",
        "def func_white_heart(white_house):\n",
        "  if white_house.text:\n",
        "    if white_house.text.strip() != \"🤍\":\n",
        "      white_house = bot.send_message(white_house.chat.id, \"Нажми на сердечко!\")\n",
        "      bot.register_next_step_handler(white_house, func_white_heart)\n",
        "    else:\n",
        "      msg_from_white_house = bot.send_message(white_house.chat.id, \"Отлично! Здесь вам нужно остановиться и построить с помощью участников команды аббревиатуру нашего вуза ВШЭ. \\nПришлите фото в бот.\", reply_markup=ReplyKeyboardRemove())\n",
        "      bot.register_next_step_handler(msg_from_white_house, task_8)\n",
        "  else:\n",
        "    white_house = bot.send_message(white_house.chat.id, \"Попробуй ещё раз!\")\n",
        "    bot.register_next_step_handler(white_house, func_white_heart)"
      ]
    },
    {
      "cell_type": "code",
      "execution_count": null,
      "metadata": {
        "id": "gj57D84yEWIj"
      },
      "outputs": [],
      "source": [
        "@bot.message_handler(content_types=['photo'])\n",
        "def task_8(msg_from_white_house):\n",
        "  if msg_from_white_house.photo:\n",
        "    white_photo = bot.get_file(msg_from_white_house.photo[-1].file_id)\n",
        "    white_photo_download = bot.download_file(white_photo.file_path)\n",
        "    bot.send_photo(1739814261, white_photo_download, caption = DATA_BASE[msg_from_white_house.from_user.id][0] + \"\\nФото в виде ВШЭ\")\n",
        "    bot.send_message(msg_from_white_house.chat.id, \"Вы большие молодцы, знайте с вами веселилась ворона! \\nЛовите второй стикер!\")\n",
        "    bot.send_sticker(msg_from_white_house.chat.id, \"CAACAgIAAxkBAAEMKYFmTS_dLIt8RzB31-5dgdpPhOfATgACylMAAvsTaUqCYGVebzzhWjUE\")\n",
        "    bot.send_message(msg_from_white_house.chat.id, \"Задание 7. \\nДалее продвигайтесь к памятнику Н.Г. Чернышевского.\")\n",
        "    photo = open('Карта (3).png', 'rb')\n",
        "    markup = types.InlineKeyboardMarkup()\n",
        "    bot.send_photo(msg_from_white_house.chat.id, photo)\n",
        "    map = types.InlineKeyboardButton(\"Карта\", url='https://yandex.ru/maps/org/nikolay_gavrilovich_chernyshevskiy/46803350456/?ll=37.670730%2C55.766587&utm_source=share&z=13')\n",
        "    markup.add(map)\n",
        "    bot.send_message(msg_from_white_house.chat.id, \"Ссылка на карту\".format(msg_from_white_house.from_user), reply_markup=markup)\n",
        "    markup = types.ReplyKeyboardMarkup(resize_keyboard = True)\n",
        "    item10 = types.KeyboardButton(\"Что делать?\")\n",
        "    markup.add(item10)\n",
        "    msg_from_task_8 = bot.send_message(msg_from_white_house.chat.id, \"Нажмите, когда будете на месте\", reply_markup=markup)\n",
        "    bot.register_next_step_handler(msg_from_task_8, task_9)\n",
        "  else:\n",
        "    msg_from_white_house = bot.send_message(msg_from_white_house.chat.id, \"Пришли, пожалуйста, фото!\")\n",
        "    bot.register_next_step_handler(msg_from_white_house, task_8)"
      ]
    },
    {
      "cell_type": "code",
      "execution_count": null,
      "metadata": {
        "id": "avj4dGRQbFqH"
      },
      "outputs": [],
      "source": [
        "@bot.message_handler(content_types=['text'])\n",
        "def task_9(msg_from_task_8):\n",
        "  if msg_from_task_8.text:\n",
        "    if msg_from_task_8.text.strip() != \"Что делать?\":\n",
        "      bot.send_message(msg_from_task_8.chat.id, \"Тыкни на кнопочку, пожалуйста)))\")\n",
        "      bot.register_next_step_handler(msg_from_task_8, task_9)\n",
        "    else:\n",
        "      msg_from_task_9 = bot.send_message(msg_from_task_8.chat.id, \"Задание 8. Вы наверняка знакомы с произведением Николая Гавриловича “Что делать?”. Главной героине произведения, Вере Павловны, снятся сны. Расположите сны в порядке появления их в произведении (от самого первого до последнего), в ответе запишите четыре цифры слитно без пробелов: \\n \\n1. Верочке снится первый её сон: она видит себя выпущенной из сырого и тёмного подвала и беседующей с удивительной красавицей, которая называет себя любовью к людям. Верочка обещает красавице, что всегда будет выпускать из подвалов других девушек, запертых так же, как была заперта она. \\n \\n2. Во втором своём сне Вера Павловна видит поле, на котором растут колосья. Она видит на этом поле и грязь — вернее, две грязи: фантастическую и реальную. Реальная грязь — это забота о самом необходимом (такая, которою всегда была обременена мать Веры Павловны), и из неё могут вырасти колосья. Фантастическая грязь — забота о лишнем и ненужном; из неё ничего путного не вырастает. \\n \\n3. Дневник Веры, которого на самом деле не существует, попадает в руки к певице Бозио. Они читают его вместе. Написано в дневнике о подробностях отношений героини с Лопуховым. Последнюю страницу девушка открывать боится. Становится понятно, что она хотела бы любить мужа, но не может, так как их чувства – это всего лишь дружба и привязанность. На самом деле Вера влюблена в Кирсанова.\\n \\n4. В хронологическом порядке Вере являются различные богини: Астрата, Афродита, Богоматерь. Через этот парад появляющихся богинь Веру ведет одна красавица, в которой героиня узнает саму себя. Она раскрепощена, независима, повелительница нового времени. Перед Верой появляется некий райский сад. Труд в нем является добровольным, все равны и свободны, нет ничего принудительного и обязательного.\", reply_markup=ReplyKeyboardRemove())\n",
        "      bot.register_next_step_handler(msg_from_task_9, answer_9)\n",
        "  else:\n",
        "    msg_from_task_8 = bot.send_message(msg_from_task_8.chat.id, \"Попробуй ещё раз!\")\n",
        "    bot.register_next_step_handler(msg_from_task_8, task_9)"
      ]
    },
    {
      "cell_type": "code",
      "execution_count": null,
      "metadata": {
        "id": "b96IniB2Atg-"
      },
      "outputs": [],
      "source": [
        "@bot.message_handler(content_types=['text'])\n",
        "def answer_9(msg_from_task_9):\n",
        "  if msg_from_task_9.text:\n",
        "    if msg_from_task_9.text == \"1423\":\n",
        "      msg_from_answer_9 = bot.send_message(msg_from_task_9.chat.id, \"Верно! \\n \\nНапишите сон абитуриента и пришлите боту :) . Лучшую историю мы опубликуем в телеграм-канале ФЭН Абитуриенты.\")\n",
        "    else:\n",
        "      msg_from_answer_9 = bot.send_message(msg_from_task_9.chat.id, \"Неверно! Правильный ответ - 1423! \\n \\nНапишите сон абитуриента и пришлите боту :) . Лучшую историю мы опубликуем в телеграм-канале ФЭН Абитуриенты.\")\n",
        "    dream = msg_from_task_9.text\n",
        "    DATA_BASE[msg_from_task_9.from_user.id].append(dream)\n",
        "    bot.send_message(1739814261, \"\\n\".join(DATA_BASE[msg_from_task_9.from_user.id]))\n",
        "    bot.register_next_step_handler(msg_from_answer_9, task_10)\n",
        "  else:\n",
        "    msg_from_task_9 = bot.send_message(msg_from_task_9.chat.id, \"Попробуй ещё раз!\")\n",
        "    bot.register_next_step_handler(msg_from_task_9, answer_9)"
      ]
    },
    {
      "cell_type": "code",
      "execution_count": null,
      "metadata": {
        "id": "4BV1gNnPDPlq"
      },
      "outputs": [],
      "source": [
        "@bot.message_handler(content_types=['text'])\n",
        "def task_10(msg_from_answer_9):\n",
        "  if msg_from_answer_9.text:\n",
        "    the_best_dream = msg_from_answer_9.text\n",
        "    DATA_BASE[msg_from_answer_9.from_user.id].append(the_best_dream)\n",
        "    bot.send_message(1739814261, \"\\n\".join(DATA_BASE[msg_from_answer_9.from_user.id]))\n",
        "    bot.send_message(msg_from_answer_9.chat.id, \"Задание 9. \\n \\nА ты точно знаешь, что делать! \\nСейчас группе нужно направиться вдоль Покровской улицы и дойти до адреса Потаповский переулок, 10 стр 16. \\nНа улице Покровка вам нужно будет найти пешеходный переход около SURF COFFEE, через дорогу от кафе будет поворот, вам туда. Вы увидите здание с логотипом Вышки во дворах, рядом будет вывеска ALPACA.\")\n",
        "    photo = open('Карта (4).png', 'rb')\n",
        "    markup = types.InlineKeyboardMarkup()\n",
        "    bot.send_photo(msg_from_answer_9.chat.id, photo)\n",
        "    map =  types.InlineKeyboardButton(\"Карта\", url='https://yandex.ru/maps/org/niu_vshe_institut_obrazovaniya/1100878042/?ll=37.640384%2C55.759491&utm_source=share&z=13')\n",
        "    markup.add(map)\n",
        "    bot.send_message(msg_from_answer_9.chat.id, \"Ссылка на карту\".format(msg_from_answer_9.from_user), reply_markup=markup)\n",
        "    markup = types.ReplyKeyboardMarkup(resize_keyboard = True)\n",
        "    love_smile = types.KeyboardButton(\"😍\")\n",
        "    markup.add(love_smile)\n",
        "    msg_from_task_10 = bot.send_message(msg_from_answer_9.chat.id, \"Когда будете на месте, нажмите на 😍\", reply_markup=markup)\n",
        "    bot.register_next_step_handler(msg_from_task_10, answer_10)\n",
        "  else:\n",
        "    msg_from_answer_9 = bot.send_message(msg_from_answer_9.chat.id, \"Попробуй ещё раз!\")\n",
        "    bot.register_next_step_handler(msg_from_answer_9, task_10)\n"
      ]
    },
    {
      "cell_type": "code",
      "execution_count": null,
      "metadata": {
        "id": "Pj0lbiUQ5kZJ"
      },
      "outputs": [],
      "source": [
        "@bot.message_handler(content_types=['text'])\n",
        "def answer_10(msg_from_task_10):\n",
        "  if msg_from_task_10.text:\n",
        "    if msg_from_task_10.text.strip() != \"😍\":\n",
        "      bot.send_message(msg_from_task_10.chat.id, \"Нажми на кнопочку!\")\n",
        "      bot.register_next_step_handler(msg_from_task_10, answer_10)\n",
        "    else:\n",
        "      msg_from_answer_10 = bot.send_message(msg_from_task_10.chat.id, \"Задание 10. \\n \\nПеред вами еще одно здание НИУ ВШЭ - Институт образования. \\n Это вторая ступень образования - магистратура. \\n Вопросы, которыми занимаются студенты - исследования в области образования, развитие междисциплинарного знания и подготовку современных ученых, действуя совместно с профессиональным сообществом. \\n Вместе с сопровождающим группу преподавателем выполните тест Расшифруй понятие: \\nИД \\nПК \\nДВИ \\n ЛК \\nКЦП \\nВсе ответы пришлите одним сообщением!\", reply_markup=ReplyKeyboardRemove())\n",
        "      bot.register_next_step_handler(msg_from_answer_10, task_11)\n",
        "  else:\n",
        "    msg_from_task_10 = bot.send_message(msg_from_task_10.chat.id, \"Попробуй ещё раз!\")\n",
        "    bot.register_next_step_handler(msg_from_task_10, answer_10)"
      ]
    },
    {
      "cell_type": "code",
      "execution_count": null,
      "metadata": {
        "id": "iLxw34lVN-G0"
      },
      "outputs": [],
      "source": [
        "@bot.message_handler(content_types=['text'])\n",
        "def task_11(msg_from_answer_10):\n",
        "  if msg_from_answer_10.text:\n",
        "    abbr = msg_from_answer_10.text\n",
        "    DATA_BASE[msg_from_answer_10.from_user.id].append(abbr)\n",
        "    bot.send_message(1739814261, \"\\n\".join(DATA_BASE[msg_from_answer_10.from_user.id]))\n",
        "    bot.send_message(msg_from_answer_10.chat.id, 'Задание 11. \\n \\nПродолжайте движение по Потаповскому переулку до Сквера Полководцев.')\n",
        "    photo = open('Карта (5).png', 'rb')\n",
        "    markup = types.InlineKeyboardMarkup()\n",
        "    bot.send_photo(msg_from_answer_10.chat.id, photo)\n",
        "    map =  types.InlineKeyboardButton(\"Карта\", url='https://yandex.ru/maps/org/skver_polkovodtsev/25239311226/?ll=37.639054%2C55.762230&utm_source=share&z=13')\n",
        "    markup.add(map)\n",
        "    markup = types.ReplyKeyboardMarkup(resize_keyboard = True)\n",
        "    item12 = types.KeyboardButton(\"👩‍🎓👨‍🎓\")\n",
        "    markup.add(item12)\n",
        "    bot.send_message(msg_from_answer_10.chat.id, \"Ссылка на карту\".format(msg_from_answer_10.from_user), reply_markup=markup)\n",
        "    msg_from_task_11 = bot.send_message(msg_from_answer_10.chat.id, \"Когда будете на месте, нажмите на 👩‍🎓👨‍🎓\", reply_markup=markup)\n",
        "    bot.register_next_step_handler(msg_from_task_11, answer_11)\n",
        "  else:\n",
        "    msg_from_answer_10 = bot.send_message(msg_from_answer_10.chat.id, \"Попробуй ещё раз!\")\n",
        "    bot.register_next_step_handler(msg_from_answer_10, task_11)\n",
        "\n"
      ]
    },
    {
      "cell_type": "code",
      "execution_count": null,
      "metadata": {
        "id": "kdTYZGKMXFUG"
      },
      "outputs": [],
      "source": [
        "@bot.message_handler(content_types=['text'])\n",
        "def answer_11(msg_from_task_11):\n",
        "  if msg_from_task_11.text:\n",
        "    if msg_from_task_11.text.strip() != \"👩‍🎓👨‍🎓\":\n",
        "      bot.send_message(msg_from_task_11.chat.id, \"Нажми на кнопочку!\")\n",
        "      bot.register_next_step_handler(msg_from_task_11, answer_11)\n",
        "    else:\n",
        "      msg_from_answer_11 = bot.send_message(msg_from_task_11.chat.id, 'Задание 12. \\n \\nНа этой точке поговорим о том, кто непосредственно руководит как администратор организационной деятельностью по ведению учебной, воспитательной и научной работы на факультете. \\n \\nДекан факультета экономических наук - Сергей Эдмундович Пекарский. \\n \\nДекан - это высшая административная должность факультета в учреждении высшего образования. \\n \\nДоцент - учёное звание преподавателей высших учебных заведений. \\n \\nКандидат экономических наук - учёная степень первой из двух (ниже доктора наук) послевузовских ступеней в Российской Федерации. \\n \\nPhd -  учёная степень, присуждаемая в большинстве стран Европы, США и во многих других странах мира. Сергей Эдмундович получит степень в Роттердамском университете Эразма. \\n \\nГлавным отличием степени от звания является то, что степень присуждается в результате обучения и защиты диссертации, звание же присуждается в результате достижений в трудовой (педагогической и научной) деятельности в ВУЗе или научном учреждении. \\n \\nСделайте фото на память, где вы изображаете аббревиатуру ФЭН. \\nПришлите фото боту.', reply_markup=ReplyKeyboardRemove())\n",
        "      bot.register_next_step_handler(msg_from_answer_11, task_12)\n",
        "  else:\n",
        "    msg_from_task_11 = bot.send_message(msg_from_task_11.chat.id, \"Попробуй ещё раз!\")\n",
        "    bot.register_next_step_handler(msg_from_task_11, answer_11)"
      ]
    },
    {
      "cell_type": "code",
      "execution_count": null,
      "metadata": {
        "id": "woECukfmbg14"
      },
      "outputs": [],
      "source": [
        "@bot.message_handler(content_types=['photo'])\n",
        "def task_12(msg_from_answer_11):\n",
        "  if msg_from_answer_11.photo:\n",
        "    photo_bear = bot.get_file(msg_from_answer_11.photo[-1].file_id)\n",
        "    photo_bear_download = bot.download_file(photo_bear.file_path)\n",
        "    bot.send_photo(1739814261, photo_bear_download, caption = DATA_BASE[msg_from_answer_11.from_user.id][0] + \"\\nФото с медведем\")\n",
        "    bot.send_message(msg_from_answer_11.chat.id, 'Задание 13. \\n \\nДалее следуем в Банковский переулок. \\nИзвестно, что многие выпускники факультета экономических наук работают в банковской сфере на различных должностях.')\n",
        "    photo = open('Карта (6).png', 'rb')\n",
        "    markup = types.InlineKeyboardMarkup()\n",
        "    bot.send_photo(msg_from_answer_11.chat.id, photo)\n",
        "    map =  types.InlineKeyboardButton(\"Карта\", url='https://yandex.ru/maps/213/moscow/geo/bankovskiy_pereulok/10049193/?ll=37.635130%2C55.762207&utm_source=share&z=19')\n",
        "    markup.add(map)\n",
        "    markup = types.ReplyKeyboardMarkup(resize_keyboard = True)\n",
        "    item13 = types.KeyboardButton(\"🤑\")\n",
        "    markup.add(item13)\n",
        "    bot.send_message(msg_from_answer_11.chat.id, \"Ссылка на карту\".format(msg_from_answer_11.from_user), reply_markup=markup)\n",
        "    msg_from_task_12 = bot.send_message(msg_from_answer_11.chat.id, \"Когда будете на месте, нажмите на 🤑\")\n",
        "    bot.register_next_step_handler(msg_from_task_12, task_13)\n",
        "  else:\n",
        "    bot.send_message(msg_from_answer_11.chat.id, \"Пришлите, пожалуйста, фото!\")\n",
        "    bot.register_next_step_handler(msg_from_answer_11, task_12)\n"
      ]
    },
    {
      "cell_type": "code",
      "execution_count": null,
      "metadata": {
        "id": "P8hO7dmOYG5M"
      },
      "outputs": [],
      "source": [
        "@bot.message_handler(content_types=['text'])\n",
        "def task_13(msg_from_task_12):\n",
        "  if msg_from_task_12.text:\n",
        "    if msg_from_task_12.text.strip() != \"🤑\":\n",
        "      bot.send_message(msg_from_task_12.chat.id, \"Нажми на кнопочку)))\")\n",
        "      bot.register_next_step_handler(msg_from_task_12, task_13)\n",
        "    else:\n",
        "      markup = types.ReplyKeyboardMarkup(resize_keyboard = True)\n",
        "      itemN = types.KeyboardButton(\"Прочитать\")\n",
        "      markup.add(itemN)\n",
        "      msg_from_task_14 = bot.send_message(msg_from_task_12.chat.id, \"А теперь ловите напутственные слова от выпускника факультета, который работает в банке!\", reply_markup=markup)\n",
        "      bot.register_next_step_handler(msg_from_task_14, read_it)\n",
        "  else:\n",
        "    msg_from_task_12 = bot.send_message(msg_from_task_12.chat.id, \"Попробуй ещё раз!\")\n",
        "    bot.register_next_step_handler(msg_from_task_12, task_13)"
      ]
    },
    {
      "cell_type": "code",
      "execution_count": null,
      "metadata": {
        "id": "vorPKfJT82L_"
      },
      "outputs": [],
      "source": [
        "@bot.message_handler(content_types=['text'])\n",
        "def read_it(msg_from_task_14):\n",
        "  if msg_from_task_14.text:\n",
        "    if msg_from_task_14.text.strip() != \"Прочитать\":\n",
        "      bot.send_message(msg_from_task_14.chat.id, \"Нажми на кнопочку\")\n",
        "      bot.register_next_step_handler(msg_from_task_14, read_it)\n",
        "    else:\n",
        "      markup = types.ReplyKeyboardMarkup(resize_keyboard = True)\n",
        "      eyes = types.KeyboardButton(\"👀\")\n",
        "      markup.add(eyes)\n",
        "      photo_appeal = open('Обращение.jpg', 'rb')\n",
        "      bot.send_photo(msg_from_task_14.chat.id, photo_appeal)\n",
        "      msg_from_read_it = bot.send_message(msg_from_task_14.chat.id, \"Когда закончите читать, нажмите на 👀\", reply_markup=markup)\n",
        "      bot.register_next_step_handler(msg_from_read_it, task_15)\n",
        "  else:\n",
        "    msg_from_task_14 = bot.send_message(msg_from_task_14.chat.id, \"Попробуй ещё раз!\")\n",
        "    bot.register_next_step_handler(msg_from_task_14, read_it)"
      ]
    },
    {
      "cell_type": "code",
      "execution_count": null,
      "metadata": {
        "id": "1yOQZFkIFNHF"
      },
      "outputs": [],
      "source": [
        "@bot.message_handler(content_types=['text'])\n",
        "def task_15(msg_from_read_it):\n",
        "  if msg_from_read_it.text:\n",
        "    if msg_from_read_it.text.strip() != \"👀\":\n",
        "      bot.send_message(msg_from_read_it.chat.id, \"Нажми на кнопочку!\")\n",
        "      bot.register_next_step_handler(msg_from_read_it, task_15)\n",
        "    else:\n",
        "      msg_from_task_15 = bot.send_message(msg_from_read_it.chat.id, \"Задание 14. \\nВыходим на очень шумную и любимую улицу всех студентов НИУ ВШЭ - Мясницкую. \\nЗа фасадами зданий прячутся здания НИУ ВШЭ.\\nОткройте любую карту и посчитайте - сколько зданий НИУ ВШЭ находится вокруг Мясницкой улицы. \\nОтвет пришлите боту.\", reply_markup=ReplyKeyboardRemove())\n",
        "      bot.register_next_step_handler(msg_from_task_15, task_16)\n",
        "  else:\n",
        "    msg_from_read_it = bot.send_message(msg_from_read_it.chat.id, \"Попробуй ещё раз!\")\n",
        "    bot.register_next_step_handler(msg_from_read_it, task_15)\n"
      ]
    },
    {
      "cell_type": "code",
      "execution_count": null,
      "metadata": {
        "id": "1j_U71ia--W0"
      },
      "outputs": [],
      "source": [
        "@bot.message_handler(content_types=['text'])\n",
        "def task_16(msg_from_task_15):\n",
        "  if msg_from_task_15.text:\n",
        "    if msg_from_task_15.text == \"4\":\n",
        "      bot.send_message(msg_from_task_15.chat.id, \"Верно!\")\n",
        "      buildings = msg_from_task_15.text\n",
        "    else:\n",
        "      bot.send_message(msg_from_task_15.chat.id, \"Неверно! Правильный ответ - 4!\")\n",
        "      buildings = msg_from_task_15.text\n",
        "    DATA_BASE[msg_from_task_15.from_user.id].append(buildings)\n",
        "    bot.send_message(1739814261, \"\\n\".join(DATA_BASE[msg_from_task_15.from_user.id]))\n",
        "    bot.send_message(msg_from_task_15.chat.id, \"Вороны очень любят шумные улицы! И все блестящее! \\nОна тут как тут - ловите третий спикер!\")\n",
        "    bot.send_sticker(msg_from_task_15.chat.id, \"CAACAgIAAxkBAAEMKYNmTTDfRhYqqP3laFde6eE8eZB0uAAChlEAAuK4aUqfRCRoTRgAAZg1BA\")\n",
        "    bot.send_message(msg_from_task_15.chat.id, \"Задание 15. \\nПо карте найдите книжный магазин Буквышка. Это книжный магазин университета, где вы можете найти не только учебные пособия, исследования, но и милые сувениры, ручки, блокнотики на память.\")\n",
        "    photo = open('Карта (7).png', 'rb')\n",
        "    markup = types.InlineKeyboardMarkup()\n",
        "    bot.send_photo(msg_from_task_15.chat.id, photo)\n",
        "    map = types.InlineKeyboardButton(\"Карта\", url=\"https://yandex.ru/maps/org/niu_vshe_universitetskiy_knizhny_magazin_bukvyshka/1073423421/?ll=37.633390%2C55.761644&utm_source=share&z=14\")\n",
        "    markup.add(map)\n",
        "    markup = types.ReplyKeyboardMarkup(resize_keyboard = True)\n",
        "    itemN1 = types.KeyboardButton(\"📖\")\n",
        "    markup.add(itemN1)\n",
        "    bot.send_message(msg_from_task_15.chat.id, \"Ссылка на карту\".format(msg_from_task_15.from_user), reply_markup=markup)\n",
        "    bot.send_message(msg_from_task_15.chat.id, \"Если Вы еще не сильно опаздываете к началу лекции, можете заглянуть в магазинчик ненадолго.\")\n",
        "    msg_from_task_16 = bot.send_message(msg_from_task_15.chat.id, \"Когда будете на месте, нажмите на 📖\", reply_markup=markup)\n",
        "    bot.register_next_step_handler(msg_from_task_16, task_17)\n",
        "  else:\n",
        "    msg_from_task_15 = bot.send_message(msg_from_task_15.chat.id, \"Попробуй ещё раз!\")\n",
        "    bot.register_next_step_handler(msg_from_task_15, task_16)\n"
      ]
    },
    {
      "cell_type": "code",
      "execution_count": null,
      "metadata": {
        "id": "3lo6DgxoCRmL"
      },
      "outputs": [],
      "source": [
        "@bot.message_handler(content_types=['text'])\n",
        "def task_17(msg_from_task_16):\n",
        "  if msg_from_task_16.text:\n",
        "    if msg_from_task_16.text.strip() != \"📖\":\n",
        "      bot.send_message(msg_from_task_16.chat.id, \"Нажми на книжечку!\")\n",
        "      bot.register_next_step_handler(msg_from_task_16, task_17)\n",
        "    else:\n",
        "      photo = open('Карта (8).png', 'rb')\n",
        "      markup = types.InlineKeyboardMarkup()\n",
        "      bot.send_photo(msg_from_task_16.chat.id, photo)\n",
        "      map = types.InlineKeyboardButton(\"Карта\", url=\"https://yandex.ru/maps/213/moscow/house/myasnitskaya_ulitsa_20/Z04YcARjTUcPQFtvfXt3cHlmZw==/?ll=37.633427%2C55.761553&utm_source=share&z=16\")\n",
        "      markup.add(map)\n",
        "      bot.send_message(msg_from_task_16.chat.id, \"Ссылка на карту\".format(msg_from_task_16.from_user), reply_markup=markup)\n",
        "      msg_from_task_17 = bot.send_message(msg_from_task_16.chat.id, \"Задание 16. \\nОколо здания Вышки по адресу Мясницкая ул д.20 найдите декоративный флюгер в виде черной птицы с большим клювом. Что это за птица? Напишите ответ\", reply_markup=ReplyKeyboardRemove())\n",
        "      bot.register_next_step_handler(msg_from_task_17, task_18)\n",
        "  else:\n",
        "    msg_from_task_16 = bot.send_message(msg_from_task_16.chat.id, \"Попробуй ещё раз!\")\n",
        "    bot.register_next_step_handler(msg_from_task_16, task_17)"
      ]
    },
    {
      "cell_type": "code",
      "execution_count": null,
      "metadata": {
        "id": "pOP9NuX5EnnB"
      },
      "outputs": [],
      "source": [
        "@bot.message_handler(content_types=['text'])\n",
        "def task_18(msg_from_task_17):\n",
        "  if msg_from_task_17.text:\n",
        "    if msg_from_task_17.text == \"Ворона\" or msg_from_task_17.text == \"ворона\" or msg_from_task_17.text == \"ВОРОНА\":\n",
        "      bot.send_message(msg_from_task_17.chat.id, \"Верно!\")\n",
        "    else:\n",
        "      bot.send_message(msg_from_task_17.chat.id, \"Неверно!\")\n",
        "    crow = msg_from_task_17.text\n",
        "    DATA_BASE[msg_from_task_17.from_user.id].append(crow)\n",
        "    bot.send_message(1739814261, \"\\n\".join(DATA_BASE[msg_from_task_17.from_user.id]))\n",
        "    markup = types.InlineKeyboardMarkup()\n",
        "    crow_info = types.InlineKeyboardButton(\"Тут про ворону)))\", url = \"https://www.hse.ru/news/273869754.html\")\n",
        "    markup.add(crow_info)\n",
        "    bot.send_message(msg_from_task_17.chat.id, \"Тут про ворону)))\".format(msg_from_task_17.from_user), reply_markup=markup)\n",
        "    bot.send_message(msg_from_task_17.chat.id, \"Торжественное открытие Вороны приурочено к 85-летию научного руководителя университета Евгения Ясина, с чьей подачи она и стала символом учебного заведения.\")\n",
        "    msg_from_task_18 = bot.send_message(msg_from_task_17.chat.id, \"Задание 17. \\nГотовьте паспорта, двигайтесь по направлению к кампусу НИУ ВШЭ, Мясницкая 11. Сделайте общую фото группы на память о нашем квесте и пришлите в бота.\")\n",
        "    bot.register_next_step_handler(msg_from_task_18, task_19)\n",
        "  else:\n",
        "    msg_from_task_17 = bot.send_message(msg_from_task_17.chat.id, \"Попробуй ещё раз!\")\n",
        "    bot.register_next_step_handler(msg_from_task_17, task_18)"
      ]
    },
    {
      "cell_type": "code",
      "execution_count": null,
      "metadata": {
        "id": "cNGaJy57H4LU"
      },
      "outputs": [],
      "source": [
        "@bot.message_handler(content_types=['photo'])\n",
        "def task_19(msg_from_task_18):\n",
        "  global count\n",
        "  if msg_from_task_18.photo:\n",
        "    bot.send_message(msg_from_task_18.chat.id, \"Кто устал - посиди с вороной на лавочке. \\nВот у тебя и весь стикерпак с прогулки!\")\n",
        "    bot.send_sticker(msg_from_task_18.chat.id, \"CAACAgIAAxkBAAEMKY1mTTI_3ClitBRH1OyA8aM3xuJAtwACEEoAAicCaUohw3hyF8ff1jUE\")\n",
        "    bot.send_message(msg_from_task_18.chat.id, \"Когда отдохнёте, идите на запах самого вкусного комплексного обеда в столовую на втором этаже.\")\n",
        "    finish = bot.send_message(msg_from_task_18.chat.id, \"Встречаемся в аудитории 330. \\nВремя начала лекции “Хочешь в ВШЭ 'всё и сразу' - поступай на ФЭН”  в 13:30, \\nНе опаздывайте, пожалуйста! \\nНе забывайте, что все участники квеста получат призы от Сбер после лекции!\")\n",
        "    end = bot.get_file(msg_from_task_18.photo[-1].file_id)\n",
        "    end_download = bot.download_file(end.file_path)\n",
        "    bot.send_photo(1739814261, end_download, caption = DATA_BASE[msg_from_task_18.from_user.id][0] + \"\\nФото на память\")\n",
        "    count += 1\n",
        "    bot.send_message(1739814261, \"\\n\".join(DATA_BASE[msg_from_task_18.from_user.id]))\n",
        "    bot.register_next_step_handler(finish, func_finish)\n",
        "  else:\n",
        "    msg_from_task_18 = bot.send_message(msg_from_task_18.chat.id, \"Пришли фото))))\")\n",
        "    bot.register_next_step_handler(msg_from_task_18, task_19)\n"
      ]
    },
    {
      "cell_type": "code",
      "execution_count": null,
      "metadata": {
        "id": "h7NODKl0Jf-i"
      },
      "outputs": [],
      "source": [
        "@bot.message_handler(content_types = ['text'])\n",
        "def func_finish(finish):\n",
        "  finish = bot.send_message(finish.chat.id, \"Квест завершён!\")\n",
        "  bot.register_next_step_handler(finish, func_finish)"
      ]
    },
    {
      "cell_type": "code",
      "execution_count": null,
      "metadata": {
        "id": "RNAlX2as-wQF"
      },
      "outputs": [],
      "source": [
        "# bot.polling(none_stop=True, interval=0)"
      ]
    },
    {
      "cell_type": "code",
      "execution_count": null,
      "metadata": {
        "colab": {
          "background_save": true,
          "base_uri": "https://localhost:8080/"
        },
        "id": "5kL2AG3yHlXs",
        "outputId": "ddc077c7-55a4-4139-f048-e9e6e9ee3af5"
      },
      "outputs": [
        {
          "name": "stdout",
          "output_type": "stream",
          "text": [
            "1143138958\n",
            "1143138958\n",
            "1143138958\n",
            "1143138958\n"
          ]
        }
      ],
      "source": [
        "if __name__=='__main__':\n",
        "   while True:\n",
        "       try:\n",
        "           bot.polling(non_stop=True, interval=0)\n",
        "       except Exception as e:\n",
        "           print(e)\n",
        "           time.sleep(0.005)\n",
        "           continue"
      ]
    },
    {
      "cell_type": "markdown",
      "metadata": {
        "id": "M7Ye6Zv-a9X9"
      },
      "source": []
    }
  ],
  "metadata": {
    "colab": {
      "provenance": []
    },
    "kernelspec": {
      "display_name": "Python 3",
      "name": "python3"
    },
    "language_info": {
      "name": "python"
    }
  },
  "nbformat": 4,
  "nbformat_minor": 0
}